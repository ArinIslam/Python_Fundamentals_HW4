{
 "cells": [
  {
   "cell_type": "code",
   "execution_count": 2,
   "id": "cce3bf7c",
   "metadata": {},
   "outputs": [],
   "source": [
    "#Maximum Product of Three Numbers\n",
    "nums=[1,2,3,4,-5,-6]\n",
    "\n",
    "def maximum_product(nums):\n",
    "    nums=sorted(nums)\n",
    "    print(\"sorted_nums: \",nums)\n",
    "    product_1=nums[0]*nums[1]*nums[-1]\n",
    "    product_2=nums[-1]*nums[-2]*nums[-3]\n",
    "    return max(product_1,product_2)\n"
   ]
  },
  {
   "cell_type": "code",
   "execution_count": 3,
   "id": "d92405b2",
   "metadata": {},
   "outputs": [
    {
     "name": "stdout",
     "output_type": "stream",
     "text": [
      "sorted_nums:  [-6, -5, 1, 2, 3, 4]\n"
     ]
    },
    {
     "data": {
      "text/plain": [
       "120"
      ]
     },
     "execution_count": 3,
     "metadata": {},
     "output_type": "execute_result"
    }
   ],
   "source": [
    "maximum_product(nums)"
   ]
  },
  {
   "cell_type": "code",
   "execution_count": 4,
   "id": "7bd795d7",
   "metadata": {},
   "outputs": [],
   "source": [
    "#Richest Customer Wealth\n",
    "def maximum_wealth(accounts):\n",
    "  wealth=[]\n",
    "  for elements in range(len(accounts)):\n",
    "    sum(accounts[elements])\n",
    "    wealth.append(sum(accounts[elements]))\n",
    "  print(wealth)\n",
    "\n",
    "  return max(wealth)"
   ]
  },
  {
   "cell_type": "code",
   "execution_count": 5,
   "id": "499d3d62",
   "metadata": {},
   "outputs": [
    {
     "name": "stdout",
     "output_type": "stream",
     "text": [
      "[17, 11, 15]\n"
     ]
    },
    {
     "data": {
      "text/plain": [
       "17"
      ]
     },
     "execution_count": 5,
     "metadata": {},
     "output_type": "execute_result"
    }
   ],
   "source": [
    "maximum_wealth([[2,8,7],[7,1,3],[1,9,5]])"
   ]
  },
  {
   "cell_type": "code",
   "execution_count": 7,
   "id": "468cf9a2",
   "metadata": {},
   "outputs": [],
   "source": [
    "#Shuffle the Array\n",
    "#nums= [2,5,1,3,4,7], n=3\n",
    "def shuffle(nums,n):\n",
    "  shuffle=[]\n",
    "  first_half=nums[:n]\n",
    "  last_half=nums[n:]\n",
    "  for i in range(n):\n",
    "    shuffle.append(first_half[i])\n",
    "    shuffle.append(last_half[i])\n",
    "  return shuffle\n"
   ]
  },
  {
   "cell_type": "code",
   "execution_count": 8,
   "id": "95b661af",
   "metadata": {},
   "outputs": [
    {
     "data": {
      "text/plain": [
       "[2, 3, 5, 4, 1, 7]"
      ]
     },
     "execution_count": 8,
     "metadata": {},
     "output_type": "execute_result"
    }
   ],
   "source": [
    "shuffle( [2,5,1,3,4,7], 3)"
   ]
  },
  {
   "cell_type": "code",
   "execution_count": 9,
   "id": "6edc9e11",
   "metadata": {},
   "outputs": [],
   "source": [
    "#Valid Perfect Square\n",
    "def isPerfectSquare(num):\n",
    "  square_root=num**0.5\n",
    "  int_square_root=int(num**0.5)\n",
    "  return square_root==int_square_root"
   ]
  },
  {
   "cell_type": "code",
   "execution_count": 10,
   "id": "c7198784",
   "metadata": {},
   "outputs": [
    {
     "data": {
      "text/plain": [
       "True"
      ]
     },
     "execution_count": 10,
     "metadata": {},
     "output_type": "execute_result"
    }
   ],
   "source": [
    "isPerfectSquare(16)"
   ]
  },
  {
   "cell_type": "code",
   "execution_count": null,
   "id": "0db71ba0",
   "metadata": {},
   "outputs": [],
   "source": []
  }
 ],
 "metadata": {
  "kernelspec": {
   "display_name": "Python 3",
   "language": "python",
   "name": "python3"
  },
  "language_info": {
   "codemirror_mode": {
    "name": "ipython",
    "version": 3
   },
   "file_extension": ".py",
   "mimetype": "text/x-python",
   "name": "python",
   "nbconvert_exporter": "python",
   "pygments_lexer": "ipython3",
   "version": "3.8.8"
  }
 },
 "nbformat": 4,
 "nbformat_minor": 5
}
